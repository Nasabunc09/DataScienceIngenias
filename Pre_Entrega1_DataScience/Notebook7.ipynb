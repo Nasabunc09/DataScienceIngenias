{
 "cells": [
  {
   "cell_type": "markdown",
   "id": "ae404e51-cee8-43c9-8bce-07cc84f61d1e",
   "metadata": {},
   "source": [
    "Programa Ingenias+ Data Science"
   ]
  },
  {
   "cell_type": "markdown",
   "id": "ca363667-c35a-4c70-8b41-2492fcb0dd7c",
   "metadata": {},
   "source": [
    "1.Importa las librerias requeridas: Pandas y NumPy."
   ]
  },
  {
   "cell_type": "code",
   "execution_count": 8,
   "id": "0b431406-c54f-48b8-928a-9c9159249b5e",
   "metadata": {},
   "outputs": [],
   "source": [
    "#Importar librerias\n",
    "import pandas as pd\n",
    "import numpy as np"
   ]
  },
  {
   "cell_type": "markdown",
   "id": "161bd616-eb79-4abb-9e2b-04fa6e8a5102",
   "metadata": {},
   "source": [
    "2.Lee el archivo csv life_expectancy_data usando pandas. Guardalo en una variable llamada expvida."
   ]
  },
  {
   "cell_type": "code",
   "execution_count": 10,
   "id": "4b25ef3d-7ed6-4ac9-b5ab-7bae4a54b0cc",
   "metadata": {},
   "outputs": [],
   "source": [
    "#Leo los datos del dataframe\n",
    "expvida = pd.read_csv('https://github.com/Nasabunc09/Ingenias2025-DataScience/blob/main/Life_Expectancy_Data.csv')"
   ]
  },
  {
   "cell_type": "code",
   "execution_count": 18,
   "id": "05448b39-5443-458c-b43c-6c01de2f9359",
   "metadata": {},
   "outputs": [
    {
     "name": "stdout",
     "output_type": "stream",
     "text": [
      "          Country  Year      Status  Life expectancy   Adult Mortality  \\\n",
      "0     Afghanistan  2015  Developing              65.0              263   \n",
      "1     Afghanistan  2014  Developing              59.9              271   \n",
      "2     Afghanistan  2013  Developing              59.9              268   \n",
      "3     Afghanistan  2012  Developing              59.5              272   \n",
      "4     Afghanistan  2011  Developing              59.2              275   \n",
      "...           ...   ...         ...               ...              ...   \n",
      "1644     Zimbabwe  2004  Developing              44.3              723   \n",
      "1645     Zimbabwe  2003  Developing              44.5              715   \n",
      "1646     Zimbabwe  2002  Developing              44.8               73   \n",
      "1647     Zimbabwe  2001  Developing              45.3              686   \n",
      "1648     Zimbabwe  2000  Developing              46.0              665   \n",
      "\n",
      "      infant deaths  Alcohol  percentage expenditure  Hepatitis B  Measles   \\\n",
      "0                62     0.01               71.279624           65      1154   \n",
      "1                64     0.01               73.523582           62       492   \n",
      "2                66     0.01               73.219243           64       430   \n",
      "3                69     0.01               78.184215           67      2787   \n",
      "4                71     0.01                7.097109           68      3013   \n",
      "...             ...      ...                     ...          ...       ...   \n",
      "1644             27     4.36                0.000000           68        31   \n",
      "1645             26     4.06                0.000000            7       998   \n",
      "1646             25     4.43                0.000000           73       304   \n",
      "1647             25     1.72                0.000000           76       529   \n",
      "1648             24     1.68                0.000000           79      1483   \n",
      "\n",
      "      ...  Polio  Total expenditure  Diphtheria    HIV/AIDS         GDP  \\\n",
      "0     ...      6               8.16           65        0.1  584.259210   \n",
      "1     ...     58               8.18           62        0.1  612.696514   \n",
      "2     ...     62               8.13           64        0.1  631.744976   \n",
      "3     ...     67               8.52           67        0.1  669.959000   \n",
      "4     ...     68               7.87           68        0.1   63.537231   \n",
      "...   ...    ...                ...          ...        ...         ...   \n",
      "1644  ...     67               7.13           65       33.6  454.366654   \n",
      "1645  ...      7               6.52           68       36.7  453.351155   \n",
      "1646  ...     73               6.53           71       39.8   57.348340   \n",
      "1647  ...     76               6.16           75       42.1  548.587312   \n",
      "1648  ...     78               7.10           78       43.5  547.358878   \n",
      "\n",
      "      Population   thinness  1-19 years   thinness 5-9 years  \\\n",
      "0     33736494.0                   17.2                 17.3   \n",
      "1       327582.0                   17.5                 17.5   \n",
      "2     31731688.0                   17.7                 17.7   \n",
      "3      3696958.0                   17.9                 18.0   \n",
      "4      2978599.0                   18.2                 18.2   \n",
      "...          ...                    ...                  ...   \n",
      "1644  12777511.0                    9.4                  9.4   \n",
      "1645  12633897.0                    9.8                  9.9   \n",
      "1646    125525.0                    1.2                  1.3   \n",
      "1647  12366165.0                    1.6                  1.7   \n",
      "1648  12222251.0                   11.0                 11.2   \n",
      "\n",
      "      Income composition of resources  Schooling  \n",
      "0                               0.479       10.1  \n",
      "1                               0.476       10.0  \n",
      "2                               0.470        9.9  \n",
      "3                               0.463        9.8  \n",
      "4                               0.454        9.5  \n",
      "...                               ...        ...  \n",
      "1644                            0.407        9.2  \n",
      "1645                            0.418        9.5  \n",
      "1646                            0.427       10.0  \n",
      "1647                            0.427        9.8  \n",
      "1648                            0.434        9.8  \n",
      "\n",
      "[1649 rows x 22 columns]\n"
     ]
    }
   ],
   "source": [
    "print (expvida)"
   ]
  },
  {
   "cell_type": "markdown",
   "id": "84711167-a8f5-44c4-b267-270cda015797",
   "metadata": {},
   "source": [
    "3.¿Que tipo de estructura de datos contiene la variable expvida?"
   ]
  },
  {
   "cell_type": "code",
   "execution_count": 30,
   "id": "277d928f-1968-4a6e-a2e6-2442657c446e",
   "metadata": {},
   "outputs": [
    {
     "data": {
      "text/plain": [
       "pandas.core.frame.DataFrame"
      ]
     },
     "execution_count": 30,
     "metadata": {},
     "output_type": "execute_result"
    }
   ],
   "source": [
    "#Obtengo tipo de datos\n",
    "type(expvida)"
   ]
  },
  {
   "cell_type": "markdown",
   "id": "0ce00f32-7891-416d-832e-32b21da9fac1",
   "metadata": {},
   "source": [
    "4.¿Cuantas filas y columnas tiene expvida?"
   ]
  },
  {
   "cell_type": "code",
   "execution_count": 33,
   "id": "c8dca06e-af1c-48df-8c2b-ae860146bec5",
   "metadata": {},
   "outputs": [
    {
     "data": {
      "text/plain": [
       "(1649, 22)"
      ]
     },
     "execution_count": 33,
     "metadata": {},
     "output_type": "execute_result"
    }
   ],
   "source": [
    "#Obtengo filas , columnas\n",
    "expvida.shape"
   ]
  },
  {
   "cell_type": "markdown",
   "id": "8ed20ddf-23b7-4385-8b71-3b06b7d7903c",
   "metadata": {},
   "source": [
    "5.¿Cual es el nombre de las columnas contenidas en expvida?"
   ]
  },
  {
   "cell_type": "code",
   "execution_count": 36,
   "id": "ebc87cce-a8ef-4623-881b-71ef81d97c5b",
   "metadata": {},
   "outputs": [
    {
     "data": {
      "text/plain": [
       "Index(['Country', 'Year', 'Status', 'Life expectancy ', 'Adult Mortality',\n",
       "       'infant deaths', 'Alcohol', 'percentage expenditure', 'Hepatitis B',\n",
       "       'Measles ', ' BMI ', 'under-five deaths ', 'Polio', 'Total expenditure',\n",
       "       'Diphtheria ', ' HIV/AIDS', 'GDP', 'Population',\n",
       "       ' thinness  1-19 years', ' thinness 5-9 years',\n",
       "       'Income composition of resources', 'Schooling'],\n",
       "      dtype='object')"
      ]
     },
     "execution_count": 36,
     "metadata": {},
     "output_type": "execute_result"
    }
   ],
   "source": [
    "#Obtengo los nombres de las columnas\n",
    "expvida.columns"
   ]
  },
  {
   "cell_type": "markdown",
   "id": "779540ab-430d-4fc9-82e1-1f83bbef91e1",
   "metadata": {},
   "source": [
    "6.Inspecciona las primeras 10 filas de expvida"
   ]
  },
  {
   "cell_type": "code",
   "execution_count": 39,
   "id": "32d607b0-3b60-465e-bd61-e5a44453c32f",
   "metadata": {},
   "outputs": [
    {
     "data": {
      "text/html": [
       "<div>\n",
       "<style scoped>\n",
       "    .dataframe tbody tr th:only-of-type {\n",
       "        vertical-align: middle;\n",
       "    }\n",
       "\n",
       "    .dataframe tbody tr th {\n",
       "        vertical-align: top;\n",
       "    }\n",
       "\n",
       "    .dataframe thead th {\n",
       "        text-align: right;\n",
       "    }\n",
       "</style>\n",
       "<table border=\"1\" class=\"dataframe\">\n",
       "  <thead>\n",
       "    <tr style=\"text-align: right;\">\n",
       "      <th></th>\n",
       "      <th>Country</th>\n",
       "      <th>Year</th>\n",
       "      <th>Status</th>\n",
       "      <th>Life expectancy</th>\n",
       "      <th>Adult Mortality</th>\n",
       "      <th>infant deaths</th>\n",
       "      <th>Alcohol</th>\n",
       "      <th>percentage expenditure</th>\n",
       "      <th>Hepatitis B</th>\n",
       "      <th>Measles</th>\n",
       "      <th>...</th>\n",
       "      <th>Polio</th>\n",
       "      <th>Total expenditure</th>\n",
       "      <th>Diphtheria</th>\n",
       "      <th>HIV/AIDS</th>\n",
       "      <th>GDP</th>\n",
       "      <th>Population</th>\n",
       "      <th>thinness  1-19 years</th>\n",
       "      <th>thinness 5-9 years</th>\n",
       "      <th>Income composition of resources</th>\n",
       "      <th>Schooling</th>\n",
       "    </tr>\n",
       "  </thead>\n",
       "  <tbody>\n",
       "    <tr>\n",
       "      <th>0</th>\n",
       "      <td>Afghanistan</td>\n",
       "      <td>2015</td>\n",
       "      <td>Developing</td>\n",
       "      <td>65.0</td>\n",
       "      <td>263</td>\n",
       "      <td>62</td>\n",
       "      <td>0.01</td>\n",
       "      <td>71.279624</td>\n",
       "      <td>65</td>\n",
       "      <td>1154</td>\n",
       "      <td>...</td>\n",
       "      <td>6</td>\n",
       "      <td>8.16</td>\n",
       "      <td>65</td>\n",
       "      <td>0.1</td>\n",
       "      <td>584.259210</td>\n",
       "      <td>33736494.0</td>\n",
       "      <td>17.2</td>\n",
       "      <td>17.3</td>\n",
       "      <td>0.479</td>\n",
       "      <td>10.1</td>\n",
       "    </tr>\n",
       "    <tr>\n",
       "      <th>1</th>\n",
       "      <td>Afghanistan</td>\n",
       "      <td>2014</td>\n",
       "      <td>Developing</td>\n",
       "      <td>59.9</td>\n",
       "      <td>271</td>\n",
       "      <td>64</td>\n",
       "      <td>0.01</td>\n",
       "      <td>73.523582</td>\n",
       "      <td>62</td>\n",
       "      <td>492</td>\n",
       "      <td>...</td>\n",
       "      <td>58</td>\n",
       "      <td>8.18</td>\n",
       "      <td>62</td>\n",
       "      <td>0.1</td>\n",
       "      <td>612.696514</td>\n",
       "      <td>327582.0</td>\n",
       "      <td>17.5</td>\n",
       "      <td>17.5</td>\n",
       "      <td>0.476</td>\n",
       "      <td>10.0</td>\n",
       "    </tr>\n",
       "    <tr>\n",
       "      <th>2</th>\n",
       "      <td>Afghanistan</td>\n",
       "      <td>2013</td>\n",
       "      <td>Developing</td>\n",
       "      <td>59.9</td>\n",
       "      <td>268</td>\n",
       "      <td>66</td>\n",
       "      <td>0.01</td>\n",
       "      <td>73.219243</td>\n",
       "      <td>64</td>\n",
       "      <td>430</td>\n",
       "      <td>...</td>\n",
       "      <td>62</td>\n",
       "      <td>8.13</td>\n",
       "      <td>64</td>\n",
       "      <td>0.1</td>\n",
       "      <td>631.744976</td>\n",
       "      <td>31731688.0</td>\n",
       "      <td>17.7</td>\n",
       "      <td>17.7</td>\n",
       "      <td>0.470</td>\n",
       "      <td>9.9</td>\n",
       "    </tr>\n",
       "    <tr>\n",
       "      <th>3</th>\n",
       "      <td>Afghanistan</td>\n",
       "      <td>2012</td>\n",
       "      <td>Developing</td>\n",
       "      <td>59.5</td>\n",
       "      <td>272</td>\n",
       "      <td>69</td>\n",
       "      <td>0.01</td>\n",
       "      <td>78.184215</td>\n",
       "      <td>67</td>\n",
       "      <td>2787</td>\n",
       "      <td>...</td>\n",
       "      <td>67</td>\n",
       "      <td>8.52</td>\n",
       "      <td>67</td>\n",
       "      <td>0.1</td>\n",
       "      <td>669.959000</td>\n",
       "      <td>3696958.0</td>\n",
       "      <td>17.9</td>\n",
       "      <td>18.0</td>\n",
       "      <td>0.463</td>\n",
       "      <td>9.8</td>\n",
       "    </tr>\n",
       "    <tr>\n",
       "      <th>4</th>\n",
       "      <td>Afghanistan</td>\n",
       "      <td>2011</td>\n",
       "      <td>Developing</td>\n",
       "      <td>59.2</td>\n",
       "      <td>275</td>\n",
       "      <td>71</td>\n",
       "      <td>0.01</td>\n",
       "      <td>7.097109</td>\n",
       "      <td>68</td>\n",
       "      <td>3013</td>\n",
       "      <td>...</td>\n",
       "      <td>68</td>\n",
       "      <td>7.87</td>\n",
       "      <td>68</td>\n",
       "      <td>0.1</td>\n",
       "      <td>63.537231</td>\n",
       "      <td>2978599.0</td>\n",
       "      <td>18.2</td>\n",
       "      <td>18.2</td>\n",
       "      <td>0.454</td>\n",
       "      <td>9.5</td>\n",
       "    </tr>\n",
       "    <tr>\n",
       "      <th>5</th>\n",
       "      <td>Afghanistan</td>\n",
       "      <td>2010</td>\n",
       "      <td>Developing</td>\n",
       "      <td>58.8</td>\n",
       "      <td>279</td>\n",
       "      <td>74</td>\n",
       "      <td>0.01</td>\n",
       "      <td>79.679367</td>\n",
       "      <td>66</td>\n",
       "      <td>1989</td>\n",
       "      <td>...</td>\n",
       "      <td>66</td>\n",
       "      <td>9.20</td>\n",
       "      <td>66</td>\n",
       "      <td>0.1</td>\n",
       "      <td>553.328940</td>\n",
       "      <td>2883167.0</td>\n",
       "      <td>18.4</td>\n",
       "      <td>18.4</td>\n",
       "      <td>0.448</td>\n",
       "      <td>9.2</td>\n",
       "    </tr>\n",
       "    <tr>\n",
       "      <th>6</th>\n",
       "      <td>Afghanistan</td>\n",
       "      <td>2009</td>\n",
       "      <td>Developing</td>\n",
       "      <td>58.6</td>\n",
       "      <td>281</td>\n",
       "      <td>77</td>\n",
       "      <td>0.01</td>\n",
       "      <td>56.762217</td>\n",
       "      <td>63</td>\n",
       "      <td>2861</td>\n",
       "      <td>...</td>\n",
       "      <td>63</td>\n",
       "      <td>9.42</td>\n",
       "      <td>63</td>\n",
       "      <td>0.1</td>\n",
       "      <td>445.893298</td>\n",
       "      <td>284331.0</td>\n",
       "      <td>18.6</td>\n",
       "      <td>18.7</td>\n",
       "      <td>0.434</td>\n",
       "      <td>8.9</td>\n",
       "    </tr>\n",
       "    <tr>\n",
       "      <th>7</th>\n",
       "      <td>Afghanistan</td>\n",
       "      <td>2008</td>\n",
       "      <td>Developing</td>\n",
       "      <td>58.1</td>\n",
       "      <td>287</td>\n",
       "      <td>80</td>\n",
       "      <td>0.03</td>\n",
       "      <td>25.873925</td>\n",
       "      <td>64</td>\n",
       "      <td>1599</td>\n",
       "      <td>...</td>\n",
       "      <td>64</td>\n",
       "      <td>8.33</td>\n",
       "      <td>64</td>\n",
       "      <td>0.1</td>\n",
       "      <td>373.361116</td>\n",
       "      <td>2729431.0</td>\n",
       "      <td>18.8</td>\n",
       "      <td>18.9</td>\n",
       "      <td>0.433</td>\n",
       "      <td>8.7</td>\n",
       "    </tr>\n",
       "    <tr>\n",
       "      <th>8</th>\n",
       "      <td>Afghanistan</td>\n",
       "      <td>2007</td>\n",
       "      <td>Developing</td>\n",
       "      <td>57.5</td>\n",
       "      <td>295</td>\n",
       "      <td>82</td>\n",
       "      <td>0.02</td>\n",
       "      <td>10.910156</td>\n",
       "      <td>63</td>\n",
       "      <td>1141</td>\n",
       "      <td>...</td>\n",
       "      <td>63</td>\n",
       "      <td>6.73</td>\n",
       "      <td>63</td>\n",
       "      <td>0.1</td>\n",
       "      <td>369.835796</td>\n",
       "      <td>26616792.0</td>\n",
       "      <td>19.0</td>\n",
       "      <td>19.1</td>\n",
       "      <td>0.415</td>\n",
       "      <td>8.4</td>\n",
       "    </tr>\n",
       "    <tr>\n",
       "      <th>9</th>\n",
       "      <td>Afghanistan</td>\n",
       "      <td>2006</td>\n",
       "      <td>Developing</td>\n",
       "      <td>57.3</td>\n",
       "      <td>295</td>\n",
       "      <td>84</td>\n",
       "      <td>0.03</td>\n",
       "      <td>17.171518</td>\n",
       "      <td>64</td>\n",
       "      <td>1990</td>\n",
       "      <td>...</td>\n",
       "      <td>58</td>\n",
       "      <td>7.43</td>\n",
       "      <td>58</td>\n",
       "      <td>0.1</td>\n",
       "      <td>272.563770</td>\n",
       "      <td>2589345.0</td>\n",
       "      <td>19.2</td>\n",
       "      <td>19.3</td>\n",
       "      <td>0.405</td>\n",
       "      <td>8.1</td>\n",
       "    </tr>\n",
       "  </tbody>\n",
       "</table>\n",
       "<p>10 rows × 22 columns</p>\n",
       "</div>"
      ],
      "text/plain": [
       "       Country  Year      Status  Life expectancy   Adult Mortality  \\\n",
       "0  Afghanistan  2015  Developing              65.0              263   \n",
       "1  Afghanistan  2014  Developing              59.9              271   \n",
       "2  Afghanistan  2013  Developing              59.9              268   \n",
       "3  Afghanistan  2012  Developing              59.5              272   \n",
       "4  Afghanistan  2011  Developing              59.2              275   \n",
       "5  Afghanistan  2010  Developing              58.8              279   \n",
       "6  Afghanistan  2009  Developing              58.6              281   \n",
       "7  Afghanistan  2008  Developing              58.1              287   \n",
       "8  Afghanistan  2007  Developing              57.5              295   \n",
       "9  Afghanistan  2006  Developing              57.3              295   \n",
       "\n",
       "   infant deaths  Alcohol  percentage expenditure  Hepatitis B  Measles   ...  \\\n",
       "0             62     0.01               71.279624           65      1154  ...   \n",
       "1             64     0.01               73.523582           62       492  ...   \n",
       "2             66     0.01               73.219243           64       430  ...   \n",
       "3             69     0.01               78.184215           67      2787  ...   \n",
       "4             71     0.01                7.097109           68      3013  ...   \n",
       "5             74     0.01               79.679367           66      1989  ...   \n",
       "6             77     0.01               56.762217           63      2861  ...   \n",
       "7             80     0.03               25.873925           64      1599  ...   \n",
       "8             82     0.02               10.910156           63      1141  ...   \n",
       "9             84     0.03               17.171518           64      1990  ...   \n",
       "\n",
       "   Polio  Total expenditure  Diphtheria    HIV/AIDS         GDP  Population  \\\n",
       "0      6               8.16           65        0.1  584.259210  33736494.0   \n",
       "1     58               8.18           62        0.1  612.696514    327582.0   \n",
       "2     62               8.13           64        0.1  631.744976  31731688.0   \n",
       "3     67               8.52           67        0.1  669.959000   3696958.0   \n",
       "4     68               7.87           68        0.1   63.537231   2978599.0   \n",
       "5     66               9.20           66        0.1  553.328940   2883167.0   \n",
       "6     63               9.42           63        0.1  445.893298    284331.0   \n",
       "7     64               8.33           64        0.1  373.361116   2729431.0   \n",
       "8     63               6.73           63        0.1  369.835796  26616792.0   \n",
       "9     58               7.43           58        0.1  272.563770   2589345.0   \n",
       "\n",
       "    thinness  1-19 years   thinness 5-9 years  \\\n",
       "0                   17.2                 17.3   \n",
       "1                   17.5                 17.5   \n",
       "2                   17.7                 17.7   \n",
       "3                   17.9                 18.0   \n",
       "4                   18.2                 18.2   \n",
       "5                   18.4                 18.4   \n",
       "6                   18.6                 18.7   \n",
       "7                   18.8                 18.9   \n",
       "8                   19.0                 19.1   \n",
       "9                   19.2                 19.3   \n",
       "\n",
       "   Income composition of resources  Schooling  \n",
       "0                            0.479       10.1  \n",
       "1                            0.476       10.0  \n",
       "2                            0.470        9.9  \n",
       "3                            0.463        9.8  \n",
       "4                            0.454        9.5  \n",
       "5                            0.448        9.2  \n",
       "6                            0.434        8.9  \n",
       "7                            0.433        8.7  \n",
       "8                            0.415        8.4  \n",
       "9                            0.405        8.1  \n",
       "\n",
       "[10 rows x 22 columns]"
      ]
     },
     "execution_count": 39,
     "metadata": {},
     "output_type": "execute_result"
    }
   ],
   "source": [
    "#Obtengo las primeras 10 filas\n",
    "expvida.head(10)"
   ]
  },
  {
   "cell_type": "markdown",
   "id": "1787efa0-f2d2-4adf-8121-88b94ec5595f",
   "metadata": {},
   "source": [
    "7.Y ahora las 10 ultimas."
   ]
  },
  {
   "cell_type": "code",
   "execution_count": 42,
   "id": "b060b339-bab0-4fd9-830e-b8496beea52c",
   "metadata": {},
   "outputs": [
    {
     "data": {
      "text/html": [
       "<div>\n",
       "<style scoped>\n",
       "    .dataframe tbody tr th:only-of-type {\n",
       "        vertical-align: middle;\n",
       "    }\n",
       "\n",
       "    .dataframe tbody tr th {\n",
       "        vertical-align: top;\n",
       "    }\n",
       "\n",
       "    .dataframe thead th {\n",
       "        text-align: right;\n",
       "    }\n",
       "</style>\n",
       "<table border=\"1\" class=\"dataframe\">\n",
       "  <thead>\n",
       "    <tr style=\"text-align: right;\">\n",
       "      <th></th>\n",
       "      <th>Country</th>\n",
       "      <th>Year</th>\n",
       "      <th>Status</th>\n",
       "      <th>Life expectancy</th>\n",
       "      <th>Adult Mortality</th>\n",
       "      <th>infant deaths</th>\n",
       "      <th>Alcohol</th>\n",
       "      <th>percentage expenditure</th>\n",
       "      <th>Hepatitis B</th>\n",
       "      <th>Measles</th>\n",
       "      <th>...</th>\n",
       "      <th>Polio</th>\n",
       "      <th>Total expenditure</th>\n",
       "      <th>Diphtheria</th>\n",
       "      <th>HIV/AIDS</th>\n",
       "      <th>GDP</th>\n",
       "      <th>Population</th>\n",
       "      <th>thinness  1-19 years</th>\n",
       "      <th>thinness 5-9 years</th>\n",
       "      <th>Income composition of resources</th>\n",
       "      <th>Schooling</th>\n",
       "    </tr>\n",
       "  </thead>\n",
       "  <tbody>\n",
       "    <tr>\n",
       "      <th>1639</th>\n",
       "      <td>Zimbabwe</td>\n",
       "      <td>2009</td>\n",
       "      <td>Developing</td>\n",
       "      <td>50.0</td>\n",
       "      <td>587</td>\n",
       "      <td>30</td>\n",
       "      <td>4.64</td>\n",
       "      <td>1.040021</td>\n",
       "      <td>73</td>\n",
       "      <td>853</td>\n",
       "      <td>...</td>\n",
       "      <td>69</td>\n",
       "      <td>6.26</td>\n",
       "      <td>73</td>\n",
       "      <td>18.1</td>\n",
       "      <td>65.824121</td>\n",
       "      <td>1381599.0</td>\n",
       "      <td>7.5</td>\n",
       "      <td>7.4</td>\n",
       "      <td>0.419</td>\n",
       "      <td>9.9</td>\n",
       "    </tr>\n",
       "    <tr>\n",
       "      <th>1640</th>\n",
       "      <td>Zimbabwe</td>\n",
       "      <td>2008</td>\n",
       "      <td>Developing</td>\n",
       "      <td>48.2</td>\n",
       "      <td>632</td>\n",
       "      <td>30</td>\n",
       "      <td>3.56</td>\n",
       "      <td>20.843429</td>\n",
       "      <td>75</td>\n",
       "      <td>0</td>\n",
       "      <td>...</td>\n",
       "      <td>75</td>\n",
       "      <td>4.96</td>\n",
       "      <td>75</td>\n",
       "      <td>20.5</td>\n",
       "      <td>325.678573</td>\n",
       "      <td>13558469.0</td>\n",
       "      <td>7.8</td>\n",
       "      <td>7.8</td>\n",
       "      <td>0.421</td>\n",
       "      <td>9.7</td>\n",
       "    </tr>\n",
       "    <tr>\n",
       "      <th>1641</th>\n",
       "      <td>Zimbabwe</td>\n",
       "      <td>2007</td>\n",
       "      <td>Developing</td>\n",
       "      <td>46.6</td>\n",
       "      <td>67</td>\n",
       "      <td>29</td>\n",
       "      <td>3.88</td>\n",
       "      <td>29.814566</td>\n",
       "      <td>72</td>\n",
       "      <td>242</td>\n",
       "      <td>...</td>\n",
       "      <td>73</td>\n",
       "      <td>4.47</td>\n",
       "      <td>73</td>\n",
       "      <td>23.7</td>\n",
       "      <td>396.998217</td>\n",
       "      <td>1332999.0</td>\n",
       "      <td>8.2</td>\n",
       "      <td>8.2</td>\n",
       "      <td>0.414</td>\n",
       "      <td>9.6</td>\n",
       "    </tr>\n",
       "    <tr>\n",
       "      <th>1642</th>\n",
       "      <td>Zimbabwe</td>\n",
       "      <td>2006</td>\n",
       "      <td>Developing</td>\n",
       "      <td>45.4</td>\n",
       "      <td>7</td>\n",
       "      <td>28</td>\n",
       "      <td>4.57</td>\n",
       "      <td>34.262169</td>\n",
       "      <td>68</td>\n",
       "      <td>212</td>\n",
       "      <td>...</td>\n",
       "      <td>71</td>\n",
       "      <td>5.12</td>\n",
       "      <td>7</td>\n",
       "      <td>26.8</td>\n",
       "      <td>414.796232</td>\n",
       "      <td>13124267.0</td>\n",
       "      <td>8.6</td>\n",
       "      <td>8.6</td>\n",
       "      <td>0.408</td>\n",
       "      <td>9.5</td>\n",
       "    </tr>\n",
       "    <tr>\n",
       "      <th>1643</th>\n",
       "      <td>Zimbabwe</td>\n",
       "      <td>2005</td>\n",
       "      <td>Developing</td>\n",
       "      <td>44.6</td>\n",
       "      <td>717</td>\n",
       "      <td>28</td>\n",
       "      <td>4.14</td>\n",
       "      <td>8.717409</td>\n",
       "      <td>65</td>\n",
       "      <td>420</td>\n",
       "      <td>...</td>\n",
       "      <td>69</td>\n",
       "      <td>6.44</td>\n",
       "      <td>68</td>\n",
       "      <td>30.3</td>\n",
       "      <td>444.765750</td>\n",
       "      <td>129432.0</td>\n",
       "      <td>9.0</td>\n",
       "      <td>9.0</td>\n",
       "      <td>0.406</td>\n",
       "      <td>9.3</td>\n",
       "    </tr>\n",
       "    <tr>\n",
       "      <th>1644</th>\n",
       "      <td>Zimbabwe</td>\n",
       "      <td>2004</td>\n",
       "      <td>Developing</td>\n",
       "      <td>44.3</td>\n",
       "      <td>723</td>\n",
       "      <td>27</td>\n",
       "      <td>4.36</td>\n",
       "      <td>0.000000</td>\n",
       "      <td>68</td>\n",
       "      <td>31</td>\n",
       "      <td>...</td>\n",
       "      <td>67</td>\n",
       "      <td>7.13</td>\n",
       "      <td>65</td>\n",
       "      <td>33.6</td>\n",
       "      <td>454.366654</td>\n",
       "      <td>12777511.0</td>\n",
       "      <td>9.4</td>\n",
       "      <td>9.4</td>\n",
       "      <td>0.407</td>\n",
       "      <td>9.2</td>\n",
       "    </tr>\n",
       "    <tr>\n",
       "      <th>1645</th>\n",
       "      <td>Zimbabwe</td>\n",
       "      <td>2003</td>\n",
       "      <td>Developing</td>\n",
       "      <td>44.5</td>\n",
       "      <td>715</td>\n",
       "      <td>26</td>\n",
       "      <td>4.06</td>\n",
       "      <td>0.000000</td>\n",
       "      <td>7</td>\n",
       "      <td>998</td>\n",
       "      <td>...</td>\n",
       "      <td>7</td>\n",
       "      <td>6.52</td>\n",
       "      <td>68</td>\n",
       "      <td>36.7</td>\n",
       "      <td>453.351155</td>\n",
       "      <td>12633897.0</td>\n",
       "      <td>9.8</td>\n",
       "      <td>9.9</td>\n",
       "      <td>0.418</td>\n",
       "      <td>9.5</td>\n",
       "    </tr>\n",
       "    <tr>\n",
       "      <th>1646</th>\n",
       "      <td>Zimbabwe</td>\n",
       "      <td>2002</td>\n",
       "      <td>Developing</td>\n",
       "      <td>44.8</td>\n",
       "      <td>73</td>\n",
       "      <td>25</td>\n",
       "      <td>4.43</td>\n",
       "      <td>0.000000</td>\n",
       "      <td>73</td>\n",
       "      <td>304</td>\n",
       "      <td>...</td>\n",
       "      <td>73</td>\n",
       "      <td>6.53</td>\n",
       "      <td>71</td>\n",
       "      <td>39.8</td>\n",
       "      <td>57.348340</td>\n",
       "      <td>125525.0</td>\n",
       "      <td>1.2</td>\n",
       "      <td>1.3</td>\n",
       "      <td>0.427</td>\n",
       "      <td>10.0</td>\n",
       "    </tr>\n",
       "    <tr>\n",
       "      <th>1647</th>\n",
       "      <td>Zimbabwe</td>\n",
       "      <td>2001</td>\n",
       "      <td>Developing</td>\n",
       "      <td>45.3</td>\n",
       "      <td>686</td>\n",
       "      <td>25</td>\n",
       "      <td>1.72</td>\n",
       "      <td>0.000000</td>\n",
       "      <td>76</td>\n",
       "      <td>529</td>\n",
       "      <td>...</td>\n",
       "      <td>76</td>\n",
       "      <td>6.16</td>\n",
       "      <td>75</td>\n",
       "      <td>42.1</td>\n",
       "      <td>548.587312</td>\n",
       "      <td>12366165.0</td>\n",
       "      <td>1.6</td>\n",
       "      <td>1.7</td>\n",
       "      <td>0.427</td>\n",
       "      <td>9.8</td>\n",
       "    </tr>\n",
       "    <tr>\n",
       "      <th>1648</th>\n",
       "      <td>Zimbabwe</td>\n",
       "      <td>2000</td>\n",
       "      <td>Developing</td>\n",
       "      <td>46.0</td>\n",
       "      <td>665</td>\n",
       "      <td>24</td>\n",
       "      <td>1.68</td>\n",
       "      <td>0.000000</td>\n",
       "      <td>79</td>\n",
       "      <td>1483</td>\n",
       "      <td>...</td>\n",
       "      <td>78</td>\n",
       "      <td>7.10</td>\n",
       "      <td>78</td>\n",
       "      <td>43.5</td>\n",
       "      <td>547.358878</td>\n",
       "      <td>12222251.0</td>\n",
       "      <td>11.0</td>\n",
       "      <td>11.2</td>\n",
       "      <td>0.434</td>\n",
       "      <td>9.8</td>\n",
       "    </tr>\n",
       "  </tbody>\n",
       "</table>\n",
       "<p>10 rows × 22 columns</p>\n",
       "</div>"
      ],
      "text/plain": [
       "       Country  Year      Status  Life expectancy   Adult Mortality  \\\n",
       "1639  Zimbabwe  2009  Developing              50.0              587   \n",
       "1640  Zimbabwe  2008  Developing              48.2              632   \n",
       "1641  Zimbabwe  2007  Developing              46.6               67   \n",
       "1642  Zimbabwe  2006  Developing              45.4                7   \n",
       "1643  Zimbabwe  2005  Developing              44.6              717   \n",
       "1644  Zimbabwe  2004  Developing              44.3              723   \n",
       "1645  Zimbabwe  2003  Developing              44.5              715   \n",
       "1646  Zimbabwe  2002  Developing              44.8               73   \n",
       "1647  Zimbabwe  2001  Developing              45.3              686   \n",
       "1648  Zimbabwe  2000  Developing              46.0              665   \n",
       "\n",
       "      infant deaths  Alcohol  percentage expenditure  Hepatitis B  Measles   \\\n",
       "1639             30     4.64                1.040021           73       853   \n",
       "1640             30     3.56               20.843429           75         0   \n",
       "1641             29     3.88               29.814566           72       242   \n",
       "1642             28     4.57               34.262169           68       212   \n",
       "1643             28     4.14                8.717409           65       420   \n",
       "1644             27     4.36                0.000000           68        31   \n",
       "1645             26     4.06                0.000000            7       998   \n",
       "1646             25     4.43                0.000000           73       304   \n",
       "1647             25     1.72                0.000000           76       529   \n",
       "1648             24     1.68                0.000000           79      1483   \n",
       "\n",
       "      ...  Polio  Total expenditure  Diphtheria    HIV/AIDS         GDP  \\\n",
       "1639  ...     69               6.26           73       18.1   65.824121   \n",
       "1640  ...     75               4.96           75       20.5  325.678573   \n",
       "1641  ...     73               4.47           73       23.7  396.998217   \n",
       "1642  ...     71               5.12            7       26.8  414.796232   \n",
       "1643  ...     69               6.44           68       30.3  444.765750   \n",
       "1644  ...     67               7.13           65       33.6  454.366654   \n",
       "1645  ...      7               6.52           68       36.7  453.351155   \n",
       "1646  ...     73               6.53           71       39.8   57.348340   \n",
       "1647  ...     76               6.16           75       42.1  548.587312   \n",
       "1648  ...     78               7.10           78       43.5  547.358878   \n",
       "\n",
       "      Population   thinness  1-19 years   thinness 5-9 years  \\\n",
       "1639   1381599.0                    7.5                  7.4   \n",
       "1640  13558469.0                    7.8                  7.8   \n",
       "1641   1332999.0                    8.2                  8.2   \n",
       "1642  13124267.0                    8.6                  8.6   \n",
       "1643    129432.0                    9.0                  9.0   \n",
       "1644  12777511.0                    9.4                  9.4   \n",
       "1645  12633897.0                    9.8                  9.9   \n",
       "1646    125525.0                    1.2                  1.3   \n",
       "1647  12366165.0                    1.6                  1.7   \n",
       "1648  12222251.0                   11.0                 11.2   \n",
       "\n",
       "      Income composition of resources  Schooling  \n",
       "1639                            0.419        9.9  \n",
       "1640                            0.421        9.7  \n",
       "1641                            0.414        9.6  \n",
       "1642                            0.408        9.5  \n",
       "1643                            0.406        9.3  \n",
       "1644                            0.407        9.2  \n",
       "1645                            0.418        9.5  \n",
       "1646                            0.427       10.0  \n",
       "1647                            0.427        9.8  \n",
       "1648                            0.434        9.8  \n",
       "\n",
       "[10 rows x 22 columns]"
      ]
     },
     "execution_count": 42,
     "metadata": {},
     "output_type": "execute_result"
    }
   ],
   "source": [
    "#Obtengo las ultimas 10 filas\n",
    "expvida.tail(10)"
   ]
  },
  {
   "cell_type": "markdown",
   "id": "1ff0e7f7-f258-4ba9-a7bc-19e41f590cf2",
   "metadata": {},
   "source": [
    "8.¿Que tipos de datos contiene cada una de las columnas de expvida?"
   ]
  },
  {
   "cell_type": "code",
   "execution_count": 47,
   "id": "bf218a84-3569-470e-b529-c206a47d8d90",
   "metadata": {},
   "outputs": [
    {
     "data": {
      "text/plain": [
       "Country                             object\n",
       "Year                                 int64\n",
       "Status                              object\n",
       "Life expectancy                    float64\n",
       "Adult Mortality                      int64\n",
       "infant deaths                        int64\n",
       "Alcohol                            float64\n",
       "percentage expenditure             float64\n",
       "Hepatitis B                          int64\n",
       "Measles                              int64\n",
       " BMI                               float64\n",
       "under-five deaths                    int64\n",
       "Polio                                int64\n",
       "Total expenditure                  float64\n",
       "Diphtheria                           int64\n",
       " HIV/AIDS                          float64\n",
       "GDP                                float64\n",
       "Population                         float64\n",
       " thinness  1-19 years              float64\n",
       " thinness 5-9 years                float64\n",
       "Income composition of resources    float64\n",
       "Schooling                          float64\n",
       "dtype: object"
      ]
     },
     "execution_count": 47,
     "metadata": {},
     "output_type": "execute_result"
    }
   ],
   "source": [
    "#Obtengo el tipo de dato de cada columna\n",
    "expvida.dtypes"
   ]
  },
  {
   "cell_type": "markdown",
   "id": "d31e9124-de88-429b-b903-c36148fe54b7",
   "metadata": {},
   "source": [
    "9.¿Hay valores faltantes en alguna de las columnas de expvida?"
   ]
  },
  {
   "cell_type": "code",
   "execution_count": 49,
   "id": "a0cb04f0-081d-41e3-b47b-5ac7b99c75db",
   "metadata": {},
   "outputs": [
    {
     "name": "stdout",
     "output_type": "stream",
     "text": [
      "Country                            0\n",
      "Year                               0\n",
      "Status                             0\n",
      "Life expectancy                    0\n",
      "Adult Mortality                    0\n",
      "infant deaths                      0\n",
      "Alcohol                            0\n",
      "percentage expenditure             0\n",
      "Hepatitis B                        0\n",
      "Measles                            0\n",
      " BMI                               0\n",
      "under-five deaths                  0\n",
      "Polio                              0\n",
      "Total expenditure                  0\n",
      "Diphtheria                         0\n",
      " HIV/AIDS                          0\n",
      "GDP                                0\n",
      "Population                         0\n",
      " thinness  1-19 years              0\n",
      " thinness 5-9 years                0\n",
      "Income composition of resources    0\n",
      "Schooling                          0\n",
      "dtype: int64\n"
     ]
    }
   ],
   "source": [
    "#Obtengo los faltantes de las columnas\n",
    "faltantes = expvida.isnull().sum()\n",
    "print (faltantes)"
   ]
  },
  {
   "cell_type": "markdown",
   "id": "f413f3c8-d36a-4134-b0ec-66a40c64aad4",
   "metadata": {},
   "source": [
    "10.Selecciona el maximo de datos faltantes. Calcula que porcentaje de los datos representan los datos faltantes."
   ]
  },
  {
   "cell_type": "code",
   "execution_count": 51,
   "id": "49a12a22-8361-4e77-97f5-894e129c6f97",
   "metadata": {},
   "outputs": [
    {
     "name": "stdout",
     "output_type": "stream",
     "text": [
      "0\n"
     ]
    }
   ],
   "source": [
    "#Obtengo el maximo de datos faltantes\n",
    "max_faltante = expvida.isnull().sum().max()\n",
    "print (max_faltante)"
   ]
  },
  {
   "cell_type": "markdown",
   "id": "10439926-790e-47be-b6c7-b2f0a434365e",
   "metadata": {},
   "source": [
    "11.Renombra la columna 'Life expectancy ' como 'life_expectancy', ' BMI ' como 'bmi' y ''Measles ' como 'measles'. No olvides de usar inplace para modificar el DataFrame original. Luego chequea que el cambio se haya hecho correctamente."
   ]
  },
  {
   "cell_type": "code",
   "execution_count": 54,
   "id": "bf03247b-1a42-45a5-ad00-c83a5eac4761",
   "metadata": {},
   "outputs": [],
   "source": [
    "#Renombro columnas\n",
    "expvida = expvida.rename(columns={\"Life expectancy \": \"life_expectancy\", \" BMI \": \"bmi\", \"Measles \": \"measles\"})"
   ]
  },
  {
   "cell_type": "code",
   "execution_count": 56,
   "id": "dea3086b-afda-4ec5-9885-8b07582ad0f4",
   "metadata": {},
   "outputs": [
    {
     "name": "stdout",
     "output_type": "stream",
     "text": [
      "Index(['Country', 'Year', 'Status', 'life_expectancy', 'Adult Mortality',\n",
      "       'infant deaths', 'Alcohol', 'percentage expenditure', 'Hepatitis B',\n",
      "       'measles', 'bmi', 'under-five deaths ', 'Polio', 'Total expenditure',\n",
      "       'Diphtheria ', ' HIV/AIDS', 'GDP', 'Population',\n",
      "       ' thinness  1-19 years', ' thinness 5-9 years',\n",
      "       'Income composition of resources', 'Schooling'],\n",
      "      dtype='object')\n"
     ]
    }
   ],
   "source": [
    "#Chequeo si se editaron los nombres de las columnas\n",
    "print(expvida.columns)"
   ]
  },
  {
   "cell_type": "markdown",
   "id": "75edb70a-2a37-463c-b1c4-602711108f55",
   "metadata": {},
   "source": [
    "12.¿Cual es el promedio de expectativa de vida (Life expectancy) en general?"
   ]
  },
  {
   "cell_type": "code",
   "execution_count": 58,
   "id": "4aaf1d18-82c4-4ca7-b77d-5b1a9ce5f1e6",
   "metadata": {},
   "outputs": [
    {
     "data": {
      "text/plain": [
       "69.3023044269254"
      ]
     },
     "execution_count": 58,
     "metadata": {},
     "output_type": "execute_result"
    }
   ],
   "source": [
    "#Obtengo el promedio de la columna Life Expectancy en general\n",
    "expvida['life_expectancy'].mean()"
   ]
  },
  {
   "cell_type": "markdown",
   "id": "2c229110-8342-48ab-81db-dccc4d6702f6",
   "metadata": {},
   "source": [
    "13.¿Cual es el promedio de expectativa de vida (Life expectancy) por país?"
   ]
  },
  {
   "cell_type": "code",
   "execution_count": 60,
   "id": "0bdbb694-6b1c-4654-be6e-67aef84c5c35",
   "metadata": {},
   "outputs": [
    {
     "data": {
      "text/plain": [
       "Country\n",
       "Afghanistan    58.193750\n",
       "Albania        75.156250\n",
       "Algeria        74.209091\n",
       "Angola         50.675000\n",
       "Argentina      75.238462\n",
       "                 ...    \n",
       "Uruguay        76.013333\n",
       "Uzbekistan     68.046154\n",
       "Vanuatu        71.346667\n",
       "Zambia         57.250000\n",
       "Zimbabwe       49.386667\n",
       "Name: life_expectancy, Length: 133, dtype: float64"
      ]
     },
     "execution_count": 60,
     "metadata": {},
     "output_type": "execute_result"
    }
   ],
   "source": [
    "#Obtengo el promedio de la columna Life Expectancy por pais\n",
    "expvida.groupby('Country')['life_expectancy'].mean()"
   ]
  },
  {
   "cell_type": "markdown",
   "id": "62d3c659-c7fb-4d3e-ace1-1c9b014f7935",
   "metadata": {},
   "source": [
    "14.¿Cual es la expectativa de vida mas alta y mas baja? Usa la funcion de pandas y la funcion de NumPy y compara el resultado. ¿Que paises tienen esas expectativas de vida?"
   ]
  },
  {
   "cell_type": "code",
   "execution_count": 98,
   "id": "c92e620f-e1bc-42f2-a244-35975307d975",
   "metadata": {},
   "outputs": [
    {
     "name": "stdout",
     "output_type": "stream",
     "text": [
      "89.0\n"
     ]
    }
   ],
   "source": [
    "#Maxima expectativa de vida usando panda\n",
    "maxima_panda = expvida['life_expectancy'].max()\n",
    "print (maxima_panda)"
   ]
  },
  {
   "cell_type": "code",
   "execution_count": 100,
   "id": "7e2b339a-8634-49dd-8a69-bc6466518d94",
   "metadata": {},
   "outputs": [
    {
     "name": "stdout",
     "output_type": "stream",
     "text": [
      "89.0\n"
     ]
    }
   ],
   "source": [
    "#Maxima expectativa de vida usando numpy\n",
    "maxima = np.array(expvida['life_expectancy'])\n",
    "maxima_numpy = np.max(maxima)\n",
    "print (maxima_numpy)"
   ]
  },
  {
   "cell_type": "code",
   "execution_count": 102,
   "id": "a61beb98-3cd8-40cc-b6b0-8c1e0a2c1ecb",
   "metadata": {},
   "outputs": [
    {
     "name": "stdout",
     "output_type": "stream",
     "text": [
      "44.0\n"
     ]
    }
   ],
   "source": [
    "#Minima expectativa de vida usando panda\n",
    "minima_panda = expvida['life_expectancy'].min()\n",
    "print (minima_panda)"
   ]
  },
  {
   "cell_type": "code",
   "execution_count": 104,
   "id": "9f293036-8e07-4599-85ae-bf2196e4fe1c",
   "metadata": {},
   "outputs": [
    {
     "name": "stdout",
     "output_type": "stream",
     "text": [
      "44.0\n"
     ]
    }
   ],
   "source": [
    "#Minima expectativa de vida usando numpy\n",
    "minima = np.array(expvida['life_expectancy'])\n",
    "minima_numpy = np.min(minima)\n",
    "print (minima_numpy)"
   ]
  },
  {
   "cell_type": "code",
   "execution_count": 122,
   "id": "f3ee0052-d840-42f6-a1f4-635f08df59e9",
   "metadata": {},
   "outputs": [
    {
     "name": "stdout",
     "output_type": "stream",
     "text": [
      "El pais con el valor maxima es: Country                              Zimbabwe\n",
      "Year                                     2014\n",
      "Status                             Developing\n",
      "life_expectancy                          59.2\n",
      "Adult Mortality                           371\n",
      "infant deaths                              23\n",
      "Alcohol                                   6.5\n",
      "percentage expenditure              10.822595\n",
      "Hepatitis B                                91\n",
      "measles                                     0\n",
      "bmi                                      31.3\n",
      "under-five deaths                          34\n",
      "Polio                                      92\n",
      "Total expenditure                        6.44\n",
      "Diphtheria                                 91\n",
      " HIV/AIDS                                 6.3\n",
      "GDP                                 127.47462\n",
      "Population                         15411675.0\n",
      " thinness  1-19 years                     5.9\n",
      " thinness 5-9 years                       5.7\n",
      "Income composition of resources         0.498\n",
      "Schooling                                10.3\n",
      "Name: 1634, dtype: object\n"
     ]
    }
   ],
   "source": [
    "#Obtengo pais que tenga esa maxima expectativa de vida, usando panda\n",
    "pais_maxima = expvida.loc[expvida['Country'].idxmax()]\n",
    "print(f\"El pais con el valor maxima es: {pais_maxima}\")"
   ]
  },
  {
   "cell_type": "code",
   "execution_count": 116,
   "id": "9d012ac7-2775-4c6d-bd4e-7a8c556a8fc2",
   "metadata": {},
   "outputs": [
    {
     "name": "stdout",
     "output_type": "stream",
     "text": [
      "El pais con el valor máximo es: Country                              Zimbabwe\n",
      "Year                                     2014\n",
      "Status                             Developing\n",
      "life_expectancy                          59.2\n",
      "Adult Mortality                           371\n",
      "infant deaths                              23\n",
      "Alcohol                                   6.5\n",
      "percentage expenditure              10.822595\n",
      "Hepatitis B                                91\n",
      "measles                                     0\n",
      "bmi                                      31.3\n",
      "under-five deaths                          34\n",
      "Polio                                      92\n",
      "Total expenditure                        6.44\n",
      "Diphtheria                                 91\n",
      " HIV/AIDS                                 6.3\n",
      "GDP                                 127.47462\n",
      "Population                         15411675.0\n",
      " thinness  1-19 years                     5.9\n",
      " thinness 5-9 years                       5.7\n",
      "Income composition of resources         0.498\n",
      "Schooling                                10.3\n",
      "Name: 1634, dtype: object\n"
     ]
    }
   ],
   "source": [
    "#Obtengo pais que tengan esa maximo expectativa de vida usando numpy\n",
    "pais_maxima = expvida.loc[expvida['Country'].argmax()]\n",
    "print(f\"El pais con el valor máximo es: {pais_maxima}\")"
   ]
  },
  {
   "cell_type": "code",
   "execution_count": 118,
   "id": "96fcf6c4-0e74-491f-83a4-cfd47f14b210",
   "metadata": {},
   "outputs": [
    {
     "name": "stdout",
     "output_type": "stream",
     "text": [
      "El pais con el valor minimo es: Country                            Afghanistan\n",
      "Year                                      2015\n",
      "Status                              Developing\n",
      "life_expectancy                           65.0\n",
      "Adult Mortality                            263\n",
      "infant deaths                               62\n",
      "Alcohol                                   0.01\n",
      "percentage expenditure               71.279624\n",
      "Hepatitis B                                 65\n",
      "measles                                   1154\n",
      "bmi                                       19.1\n",
      "under-five deaths                           83\n",
      "Polio                                        6\n",
      "Total expenditure                         8.16\n",
      "Diphtheria                                  65\n",
      " HIV/AIDS                                  0.1\n",
      "GDP                                  584.25921\n",
      "Population                          33736494.0\n",
      " thinness  1-19 years                     17.2\n",
      " thinness 5-9 years                       17.3\n",
      "Income composition of resources          0.479\n",
      "Schooling                                 10.1\n",
      "Name: 0, dtype: object\n"
     ]
    }
   ],
   "source": [
    "#Obtengo pais que tenga esa minimo expectativa de vida, usando panda\n",
    "pais_minima = expvida.loc[expvida['Country'].idxmin()]\n",
    "print(f\"El pais con el valor minimo es: {pais_minima}\")"
   ]
  },
  {
   "cell_type": "code",
   "execution_count": 120,
   "id": "4ae33e00-e0ab-4b46-8da5-eac3f6f99f10",
   "metadata": {},
   "outputs": [
    {
     "name": "stdout",
     "output_type": "stream",
     "text": [
      "El pais con el valor minimo es: Country                            Afghanistan\n",
      "Year                                      2015\n",
      "Status                              Developing\n",
      "life_expectancy                           65.0\n",
      "Adult Mortality                            263\n",
      "infant deaths                               62\n",
      "Alcohol                                   0.01\n",
      "percentage expenditure               71.279624\n",
      "Hepatitis B                                 65\n",
      "measles                                   1154\n",
      "bmi                                       19.1\n",
      "under-five deaths                           83\n",
      "Polio                                        6\n",
      "Total expenditure                         8.16\n",
      "Diphtheria                                  65\n",
      " HIV/AIDS                                  0.1\n",
      "GDP                                  584.25921\n",
      "Population                          33736494.0\n",
      " thinness  1-19 years                     17.2\n",
      " thinness 5-9 years                       17.3\n",
      "Income composition of resources          0.479\n",
      "Schooling                                 10.1\n",
      "Name: 0, dtype: object\n"
     ]
    }
   ],
   "source": [
    "#Obtengo pais que tengan esa minima expectativa de vida, usando numpy\n",
    "pais_minima = expvida.loc[expvida['Country'].argmin()]\n",
    "print(f\"El pais con el valor minimo es: {pais_minima}\")"
   ]
  },
  {
   "cell_type": "markdown",
   "id": "70c00673-9b93-4e05-9b7a-17ff0a589bae",
   "metadata": {},
   "source": [
    "15. ¿Cuantas categorias encontramos en la columna \"Status\"? Pista: Lee acerca de la función unique()"
   ]
  },
  {
   "cell_type": "code",
   "execution_count": 64,
   "id": "2a9cde07-0a8e-4e1f-b736-97e331ac4047",
   "metadata": {},
   "outputs": [
    {
     "name": "stdout",
     "output_type": "stream",
     "text": [
      "['Developing' 'Developed']\n"
     ]
    }
   ],
   "source": [
    "#Obtengo categorias encontradas en Status\n",
    "categorias = expvida['Status'].unique()\n",
    "print (categorias)"
   ]
  },
  {
   "cell_type": "markdown",
   "id": "f935799c-70a7-4765-8b0d-673b3fd4f8d5",
   "metadata": {},
   "source": [
    "16.¿Cuantos paises se ubican en cada una de esas categorias de \"Status\"? Pista: Lee acerca de la función value_counts()"
   ]
  },
  {
   "cell_type": "code",
   "execution_count": 66,
   "id": "08e18fef-3f8b-4244-873b-08a19f64603e",
   "metadata": {},
   "outputs": [
    {
     "data": {
      "text/plain": [
       "Status      Country          \n",
       "Developed   Austria              15\n",
       "            Belgium              15\n",
       "            Bulgaria             15\n",
       "            Cyprus               15\n",
       "            Germany              15\n",
       "                                 ..\n",
       "Developing  Guinea-Bissau         6\n",
       "            Niger                 6\n",
       "            Namibia               5\n",
       "            Haiti                 2\n",
       "            Equatorial Guinea     1\n",
       "Name: count, Length: 133, dtype: int64"
      ]
     },
     "execution_count": 66,
     "metadata": {},
     "output_type": "execute_result"
    }
   ],
   "source": [
    "#Obtengo cantidad de paises que se ubican en la categoria Status\n",
    "expvida.groupby('Status')['Country'].value_counts()"
   ]
  },
  {
   "cell_type": "markdown",
   "id": "2d3aa078-3597-477c-a6f4-1c28b79c45c6",
   "metadata": {},
   "source": [
    "17.¿Cuantos paises presentaron algun caso de Sarampion (Measles) en el 2015? Pista: Lee acerca de la función .count()"
   ]
  },
  {
   "cell_type": "code",
   "execution_count": 96,
   "id": "ccc91d58-b47c-488d-94a0-35d331364fae",
   "metadata": {},
   "outputs": [
    {
     "name": "stdout",
     "output_type": "stream",
     "text": [
      "Cantidad de paises que presentaron sarampión en 2015 : 22\n"
     ]
    }
   ],
   "source": [
    "#Obtengo cantidad de paises que presentaron Sarampion en 2015\n",
    "filtro = expvida[(expvida['measles'] > 0) & (expvida['Year'] == 2015)].count()\n",
    "cantidad_paises = filtro.shape[0]\n",
    "print (\"Cantidad de paises que presentaron sarampión en 2015 :\",cantidad_paises)"
   ]
  },
  {
   "cell_type": "code",
   "execution_count": null,
   "id": "ccd73969-70c4-4465-bfef-c83ae2b38dda",
   "metadata": {},
   "outputs": [],
   "source": []
  },
  {
   "cell_type": "code",
   "execution_count": null,
   "id": "39d459e1-f8f8-40d8-9ae8-c6ad4cedbb25",
   "metadata": {},
   "outputs": [],
   "source": []
  }
 ],
 "metadata": {
  "kernelspec": {
   "display_name": "Python [conda env:base] *",
   "language": "python",
   "name": "conda-base-py"
  },
  "language_info": {
   "codemirror_mode": {
    "name": "ipython",
    "version": 3
   },
   "file_extension": ".py",
   "mimetype": "text/x-python",
   "name": "python",
   "nbconvert_exporter": "python",
   "pygments_lexer": "ipython3",
   "version": "3.12.7"
  }
 },
 "nbformat": 4,
 "nbformat_minor": 5
}
