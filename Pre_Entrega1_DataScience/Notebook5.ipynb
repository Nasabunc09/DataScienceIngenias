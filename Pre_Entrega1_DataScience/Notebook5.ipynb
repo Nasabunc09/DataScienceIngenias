{
 "cells": [
  {
   "cell_type": "markdown",
   "id": "e3bc73ab-81e1-455c-85ac-31df446e2d6b",
   "metadata": {},
   "source": [
    "Ingenias 2025 Data Science "
   ]
  },
  {
   "cell_type": "code",
   "execution_count": null,
   "id": "439133e5-1968-4631-9e15-36d5ef4ea99e",
   "metadata": {},
   "outputs": [],
   "source": [
    "Ejercicios\n",
    "1.Crear un arreglo de ceros de longitud 12\n",
    "2.Crear un arreglo de longitud 10 con ceros en todas sus posiciones y un 10 en la posición número 5\n",
    "3.Crear un arreglo que tenga los números del 10 al 49\n",
    "4.Crear una arreglo 2d de shape (3, 3) que tenga los números del 0 al 8\n",
    "5.Crear un arreglo de números aleatorios de longitud 100 y obtener su media y varianza\n",
    "6.Calcular la media de un arreglo usando np.sum\n",
    "7.Calcular la varianza de un arreglo usando np.sum y np.mean\n",
    "8.Crear un array de números aleatorios usando np.random.randn."
   ]
  },
  {
   "cell_type": "code",
   "execution_count": 1,
   "id": "e8d92c9b-33a5-49a1-b554-02bc06774831",
   "metadata": {},
   "outputs": [],
   "source": [
    "#Importar numpy\n",
    "import numpy as np"
   ]
  },
  {
   "cell_type": "code",
   "execution_count": 9,
   "id": "7c8280a2-a169-4f9c-97f4-1814271fd22f",
   "metadata": {},
   "outputs": [
    {
     "name": "stdout",
     "output_type": "stream",
     "text": [
      "[0. 0. 0. 0. 0. 0. 0. 0. 0. 0. 0. 0.]\n"
     ]
    },
    {
     "data": {
      "text/plain": [
       "12"
      ]
     },
     "execution_count": 9,
     "metadata": {},
     "output_type": "execute_result"
    }
   ],
   "source": [
    "#Ejercicio 1\n",
    "\n",
    "array_ceros = np.zeros(12)\n",
    "print (array_ceros)\n",
    "len (array_ceros)\n"
   ]
  },
  {
   "cell_type": "code",
   "execution_count": 15,
   "id": "7b74649a-916f-4f12-bd02-65e47c0d6ee8",
   "metadata": {},
   "outputs": [
    {
     "name": "stdout",
     "output_type": "stream",
     "text": [
      "[ 0.  0.  0.  0. 10.  0.  0.  0.  0.  0.]\n"
     ]
    },
    {
     "data": {
      "text/plain": [
       "10"
      ]
     },
     "execution_count": 15,
     "metadata": {},
     "output_type": "execute_result"
    }
   ],
   "source": [
    "#Ejercicio 2\n",
    "\n",
    "array = np.zeros(10)\n",
    "array [4] = 10\n",
    "print (array)\n",
    "len (array)"
   ]
  },
  {
   "cell_type": "code",
   "execution_count": 17,
   "id": "f6467762-410d-43d0-b0ca-f3d634464627",
   "metadata": {},
   "outputs": [
    {
     "name": "stdout",
     "output_type": "stream",
     "text": [
      "[10 11 12 13 14 15 16 17 18 19 20 21 22 23 24 25 26 27 28 29 30 31 32 33\n",
      " 34 35 36 37 38 39 40 41 42 43 44 45 46 47 48 49]\n"
     ]
    }
   ],
   "source": [
    "#Ejercicio 3\n",
    "\n",
    "array = np.arange(10,50)\n",
    "print (array)"
   ]
  },
  {
   "cell_type": "code",
   "execution_count": 25,
   "id": "e5e17ccd-b41a-424d-8d2d-bb7f93605eb2",
   "metadata": {},
   "outputs": [
    {
     "name": "stdout",
     "output_type": "stream",
     "text": [
      "[[0 1 2]\n",
      " [3 4 5]\n",
      " [6 7 8]]\n"
     ]
    }
   ],
   "source": [
    "#Ejercicio 4\n",
    "\n",
    "matriz = np.arange(9).reshape(3,3)\n",
    "print (matriz)"
   ]
  },
  {
   "cell_type": "code",
   "execution_count": 81,
   "id": "04436369-22bc-48ef-97b1-e43094bf56f6",
   "metadata": {},
   "outputs": [
    {
     "name": "stdout",
     "output_type": "stream",
     "text": [
      "[42 35 18 30  2  1 45 11 14  0  6 27 30  0  3 25 46  2  0 38 30 32 42 33\n",
      " 27 24 33 47  3 41 23 30 26 13 32 25  6 24 48 23 40  2 18 35 40 47 39  4\n",
      " 47  5 40  7 17 34 35  9  9 40 48  2  8 28  8  5 35  0  2 40 15  6 13 14\n",
      " 32 30  7 39 49 31 25 43 19 27 39  1 32 44 13 30 14 35 29 31 31 28 30  1\n",
      "  6 49  2  1]\n"
     ]
    }
   ],
   "source": [
    "#Ejercicio 5\n",
    "\n",
    "#Crea un array de 100 numeros enteros aleatorios entre 0 y 50 \n",
    "array_aleatorio = np.random.randint(0,50,size=100)\n",
    "print (array_aleatorio)"
   ]
  },
  {
   "cell_type": "code",
   "execution_count": 83,
   "id": "c9c00d81-83ec-405d-8281-64bc6f70a713",
   "metadata": {},
   "outputs": [
    {
     "name": "stdout",
     "output_type": "stream",
     "text": [
      "23.47\n"
     ]
    }
   ],
   "source": [
    "#Obtiene la media del array\n",
    "array_media = np.mean(array_aleatorio)\n",
    "print (array_media)"
   ]
  },
  {
   "cell_type": "code",
   "execution_count": 75,
   "id": "d6f20e77-82e7-42c0-acd7-b2ba35bdd2ca",
   "metadata": {},
   "outputs": [
    {
     "name": "stdout",
     "output_type": "stream",
     "text": [
      "205.6931\n"
     ]
    }
   ],
   "source": [
    "#Obtiene la varianza del array\n",
    "array_varianza = np.var(array_aleatorio)\n",
    "print (array_varianza)"
   ]
  },
  {
   "cell_type": "code",
   "execution_count": 77,
   "id": "aeb9909b-0f98-4708-b750-23ea148b337f",
   "metadata": {},
   "outputs": [
    {
     "name": "stdout",
     "output_type": "stream",
     "text": [
      "2463\n",
      "100\n",
      "La media del arreglo: 24.63\n"
     ]
    }
   ],
   "source": [
    "#Ejercicio 6\n",
    "\n",
    "#Calcula la suma de los elementos del array creado en el ejercicio anterior\n",
    "array_suma = np.sum(array_aleatorio)\n",
    "print (array_suma)\n",
    "\n",
    "#Calcula el numero de elementos del array\n",
    "num_elementos = array_aleatorio.size\n",
    "print (num_elementos)\n",
    "\n",
    "#Calcula la media\n",
    "media = array_suma / num_elementos\n",
    "print (\"La media del arreglo:\",media)\n"
   ]
  },
  {
   "cell_type": "code",
   "execution_count": 79,
   "id": "550e21c5-27f3-42ea-b46b-80943c14d893",
   "metadata": {},
   "outputs": [
    {
     "name": "stdout",
     "output_type": "stream",
     "text": [
      "24.63\n",
      "20569.309999999998\n",
      "100\n",
      "La varianza es: 205.6931\n"
     ]
    }
   ],
   "source": [
    "#Ejercicio 7\n",
    "\n",
    "#Calcula la media del array\n",
    "array_media = np.mean(array_aleatorio)\n",
    "print (array_media)\n",
    "\n",
    "#Calcula la suma de los cuadrados de las diferencias \n",
    "suma_cuadrados = np.sum((array_aleatorio - array_media) ** 2)\n",
    "print (suma_cuadrados)\n",
    "\n",
    "#Calcula el numero de elementos para varianza\n",
    "num_elementos = array_aleatorio.size\n",
    "print (num_elementos)\n",
    "\n",
    "#Calcula varianza\n",
    "varianza = suma_cuadrados / num_elementos\n",
    "print (\"La varianza es:\",varianza)\n",
    "\n"
   ]
  },
  {
   "cell_type": "code",
   "execution_count": 87,
   "id": "69307e99-942c-44a2-8703-ecff4c8cc255",
   "metadata": {},
   "outputs": [
    {
     "name": "stdout",
     "output_type": "stream",
     "text": [
      "[0.88087051 0.46986933 0.38382733 0.03073332 0.95367384 0.31418978\n",
      " 0.90375854 0.12716509 0.58474313 0.38080724]\n"
     ]
    }
   ],
   "source": [
    "#Ejercicio 8\n",
    "\n",
    "array = np.random.rand(10)\n",
    "print (array)\n"
   ]
  },
  {
   "cell_type": "code",
   "execution_count": null,
   "id": "91565707-7aac-4da5-ab27-7c9ba0c99840",
   "metadata": {},
   "outputs": [],
   "source": []
  }
 ],
 "metadata": {
  "kernelspec": {
   "display_name": "Python [conda env:base] *",
   "language": "python",
   "name": "conda-base-py"
  },
  "language_info": {
   "codemirror_mode": {
    "name": "ipython",
    "version": 3
   },
   "file_extension": ".py",
   "mimetype": "text/x-python",
   "name": "python",
   "nbconvert_exporter": "python",
   "pygments_lexer": "ipython3",
   "version": "3.12.7"
  }
 },
 "nbformat": 4,
 "nbformat_minor": 5
}
